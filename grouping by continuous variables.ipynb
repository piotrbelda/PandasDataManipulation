{
 "cells": [
  {
   "cell_type": "code",
   "execution_count": 13,
   "metadata": {},
   "outputs": [],
   "source": [
    "import pandas as pd\n",
    "import numpy as np\n",
    "import seaborn as sns"
   ]
  },
  {
   "cell_type": "code",
   "execution_count": 2,
   "metadata": {},
   "outputs": [],
   "source": [
    "flights=pd.read_csv('data/flights.csv')"
   ]
  },
  {
   "cell_type": "code",
   "execution_count": 3,
   "metadata": {},
   "outputs": [
    {
     "data": {
      "text/html": [
       "<div>\n",
       "<style scoped>\n",
       "    .dataframe tbody tr th:only-of-type {\n",
       "        vertical-align: middle;\n",
       "    }\n",
       "\n",
       "    .dataframe tbody tr th {\n",
       "        vertical-align: top;\n",
       "    }\n",
       "\n",
       "    .dataframe thead th {\n",
       "        text-align: right;\n",
       "    }\n",
       "</style>\n",
       "<table border=\"1\" class=\"dataframe\">\n",
       "  <thead>\n",
       "    <tr style=\"text-align: right;\">\n",
       "      <th></th>\n",
       "      <th>MONTH</th>\n",
       "      <th>DAY</th>\n",
       "      <th>WEEKDAY</th>\n",
       "      <th>AIRLINE</th>\n",
       "      <th>ORG_AIR</th>\n",
       "      <th>DEST_AIR</th>\n",
       "      <th>SCHED_DEP</th>\n",
       "      <th>DEP_DELAY</th>\n",
       "      <th>AIR_TIME</th>\n",
       "      <th>DIST</th>\n",
       "      <th>SCHED_ARR</th>\n",
       "      <th>ARR_DELAY</th>\n",
       "      <th>DIVERTED</th>\n",
       "      <th>CANCELLED</th>\n",
       "    </tr>\n",
       "  </thead>\n",
       "  <tbody>\n",
       "    <tr>\n",
       "      <th>0</th>\n",
       "      <td>1</td>\n",
       "      <td>1</td>\n",
       "      <td>4</td>\n",
       "      <td>WN</td>\n",
       "      <td>LAX</td>\n",
       "      <td>SLC</td>\n",
       "      <td>1625</td>\n",
       "      <td>58.0</td>\n",
       "      <td>94.0</td>\n",
       "      <td>590</td>\n",
       "      <td>1905</td>\n",
       "      <td>65.0</td>\n",
       "      <td>0</td>\n",
       "      <td>0</td>\n",
       "    </tr>\n",
       "    <tr>\n",
       "      <th>1</th>\n",
       "      <td>1</td>\n",
       "      <td>1</td>\n",
       "      <td>4</td>\n",
       "      <td>UA</td>\n",
       "      <td>DEN</td>\n",
       "      <td>IAD</td>\n",
       "      <td>823</td>\n",
       "      <td>7.0</td>\n",
       "      <td>154.0</td>\n",
       "      <td>1452</td>\n",
       "      <td>1333</td>\n",
       "      <td>-13.0</td>\n",
       "      <td>0</td>\n",
       "      <td>0</td>\n",
       "    </tr>\n",
       "    <tr>\n",
       "      <th>2</th>\n",
       "      <td>1</td>\n",
       "      <td>1</td>\n",
       "      <td>4</td>\n",
       "      <td>MQ</td>\n",
       "      <td>DFW</td>\n",
       "      <td>VPS</td>\n",
       "      <td>1305</td>\n",
       "      <td>36.0</td>\n",
       "      <td>85.0</td>\n",
       "      <td>641</td>\n",
       "      <td>1453</td>\n",
       "      <td>35.0</td>\n",
       "      <td>0</td>\n",
       "      <td>0</td>\n",
       "    </tr>\n",
       "    <tr>\n",
       "      <th>3</th>\n",
       "      <td>1</td>\n",
       "      <td>1</td>\n",
       "      <td>4</td>\n",
       "      <td>AA</td>\n",
       "      <td>DFW</td>\n",
       "      <td>DCA</td>\n",
       "      <td>1555</td>\n",
       "      <td>7.0</td>\n",
       "      <td>126.0</td>\n",
       "      <td>1192</td>\n",
       "      <td>1935</td>\n",
       "      <td>-7.0</td>\n",
       "      <td>0</td>\n",
       "      <td>0</td>\n",
       "    </tr>\n",
       "    <tr>\n",
       "      <th>4</th>\n",
       "      <td>1</td>\n",
       "      <td>1</td>\n",
       "      <td>4</td>\n",
       "      <td>WN</td>\n",
       "      <td>LAX</td>\n",
       "      <td>MCI</td>\n",
       "      <td>1720</td>\n",
       "      <td>48.0</td>\n",
       "      <td>166.0</td>\n",
       "      <td>1363</td>\n",
       "      <td>2225</td>\n",
       "      <td>39.0</td>\n",
       "      <td>0</td>\n",
       "      <td>0</td>\n",
       "    </tr>\n",
       "  </tbody>\n",
       "</table>\n",
       "</div>"
      ],
      "text/plain": [
       "   MONTH  DAY  WEEKDAY AIRLINE ORG_AIR DEST_AIR  SCHED_DEP  DEP_DELAY  \\\n",
       "0      1    1        4      WN     LAX      SLC       1625       58.0   \n",
       "1      1    1        4      UA     DEN      IAD        823        7.0   \n",
       "2      1    1        4      MQ     DFW      VPS       1305       36.0   \n",
       "3      1    1        4      AA     DFW      DCA       1555        7.0   \n",
       "4      1    1        4      WN     LAX      MCI       1720       48.0   \n",
       "\n",
       "   AIR_TIME  DIST  SCHED_ARR  ARR_DELAY  DIVERTED  CANCELLED  \n",
       "0      94.0   590       1905       65.0         0          0  \n",
       "1     154.0  1452       1333      -13.0         0          0  \n",
       "2      85.0   641       1453       35.0         0          0  \n",
       "3     126.0  1192       1935       -7.0         0          0  \n",
       "4     166.0  1363       2225       39.0         0          0  "
      ]
     },
     "execution_count": 3,
     "metadata": {},
     "output_type": "execute_result"
    }
   ],
   "source": [
    "flights.head()"
   ]
  },
  {
   "cell_type": "code",
   "execution_count": 5,
   "metadata": {},
   "outputs": [
    {
     "data": {
      "text/html": [
       "<div>\n",
       "<style scoped>\n",
       "    .dataframe tbody tr th:only-of-type {\n",
       "        vertical-align: middle;\n",
       "    }\n",
       "\n",
       "    .dataframe tbody tr th {\n",
       "        vertical-align: top;\n",
       "    }\n",
       "\n",
       "    .dataframe thead th {\n",
       "        text-align: right;\n",
       "    }\n",
       "</style>\n",
       "<table border=\"1\" class=\"dataframe\">\n",
       "  <thead>\n",
       "    <tr style=\"text-align: right;\">\n",
       "      <th></th>\n",
       "      <th>MONTH</th>\n",
       "      <th>DAY</th>\n",
       "      <th>WEEKDAY</th>\n",
       "      <th>SCHED_DEP</th>\n",
       "      <th>DEP_DELAY</th>\n",
       "      <th>AIR_TIME</th>\n",
       "      <th>DIST</th>\n",
       "      <th>SCHED_ARR</th>\n",
       "      <th>ARR_DELAY</th>\n",
       "      <th>DIVERTED</th>\n",
       "      <th>CANCELLED</th>\n",
       "    </tr>\n",
       "  </thead>\n",
       "  <tbody>\n",
       "    <tr>\n",
       "      <th>0</th>\n",
       "      <td>1</td>\n",
       "      <td>1</td>\n",
       "      <td>4</td>\n",
       "      <td>1625</td>\n",
       "      <td>58.0</td>\n",
       "      <td>94.0</td>\n",
       "      <td>590</td>\n",
       "      <td>1905</td>\n",
       "      <td>65.0</td>\n",
       "      <td>0</td>\n",
       "      <td>0</td>\n",
       "    </tr>\n",
       "    <tr>\n",
       "      <th>1</th>\n",
       "      <td>1</td>\n",
       "      <td>1</td>\n",
       "      <td>4</td>\n",
       "      <td>823</td>\n",
       "      <td>7.0</td>\n",
       "      <td>154.0</td>\n",
       "      <td>1452</td>\n",
       "      <td>1333</td>\n",
       "      <td>-13.0</td>\n",
       "      <td>0</td>\n",
       "      <td>0</td>\n",
       "    </tr>\n",
       "    <tr>\n",
       "      <th>2</th>\n",
       "      <td>1</td>\n",
       "      <td>1</td>\n",
       "      <td>4</td>\n",
       "      <td>1305</td>\n",
       "      <td>36.0</td>\n",
       "      <td>85.0</td>\n",
       "      <td>641</td>\n",
       "      <td>1453</td>\n",
       "      <td>35.0</td>\n",
       "      <td>0</td>\n",
       "      <td>0</td>\n",
       "    </tr>\n",
       "    <tr>\n",
       "      <th>3</th>\n",
       "      <td>1</td>\n",
       "      <td>1</td>\n",
       "      <td>4</td>\n",
       "      <td>1555</td>\n",
       "      <td>7.0</td>\n",
       "      <td>126.0</td>\n",
       "      <td>1192</td>\n",
       "      <td>1935</td>\n",
       "      <td>-7.0</td>\n",
       "      <td>0</td>\n",
       "      <td>0</td>\n",
       "    </tr>\n",
       "    <tr>\n",
       "      <th>4</th>\n",
       "      <td>1</td>\n",
       "      <td>1</td>\n",
       "      <td>4</td>\n",
       "      <td>1720</td>\n",
       "      <td>48.0</td>\n",
       "      <td>166.0</td>\n",
       "      <td>1363</td>\n",
       "      <td>2225</td>\n",
       "      <td>39.0</td>\n",
       "      <td>0</td>\n",
       "      <td>0</td>\n",
       "    </tr>\n",
       "  </tbody>\n",
       "</table>\n",
       "</div>"
      ],
      "text/plain": [
       "   MONTH  DAY  WEEKDAY  SCHED_DEP  DEP_DELAY  AIR_TIME  DIST  SCHED_ARR  \\\n",
       "0      1    1        4       1625       58.0      94.0   590       1905   \n",
       "1      1    1        4        823        7.0     154.0  1452       1333   \n",
       "2      1    1        4       1305       36.0      85.0   641       1453   \n",
       "3      1    1        4       1555        7.0     126.0  1192       1935   \n",
       "4      1    1        4       1720       48.0     166.0  1363       2225   \n",
       "\n",
       "   ARR_DELAY  DIVERTED  CANCELLED  \n",
       "0       65.0         0          0  \n",
       "1      -13.0         0          0  \n",
       "2       35.0         0          0  \n",
       "3       -7.0         0          0  \n",
       "4       39.0         0          0  "
      ]
     },
     "execution_count": 5,
     "metadata": {},
     "output_type": "execute_result"
    }
   ],
   "source": [
    "flights.select_dtypes(include=np.number).head()"
   ]
  },
  {
   "cell_type": "code",
   "execution_count": 8,
   "metadata": {},
   "outputs": [
    {
     "data": {
      "text/plain": [
       "count    58492.000000\n",
       "mean       872.900072\n",
       "std        624.996805\n",
       "min         67.000000\n",
       "25%        391.000000\n",
       "50%        690.000000\n",
       "75%       1199.000000\n",
       "max       4502.000000\n",
       "Name: DIST, dtype: float64"
      ]
     },
     "execution_count": 8,
     "metadata": {},
     "output_type": "execute_result"
    }
   ],
   "source": [
    "flights.DIST.describe()"
   ]
  },
  {
   "cell_type": "code",
   "execution_count": 10,
   "metadata": {},
   "outputs": [],
   "source": [
    "# binning values with pd.cut() functionality"
   ]
  },
  {
   "cell_type": "code",
   "execution_count": 9,
   "metadata": {},
   "outputs": [],
   "source": [
    "bins=[-np.inf,200,500,1000,2000,np.inf]"
   ]
  },
  {
   "cell_type": "code",
   "execution_count": 11,
   "metadata": {},
   "outputs": [
    {
     "data": {
      "text/plain": [
       "0     (500.0, 1000.0]\n",
       "1    (1000.0, 2000.0]\n",
       "2     (500.0, 1000.0]\n",
       "3    (1000.0, 2000.0]\n",
       "4    (1000.0, 2000.0]\n",
       "Name: DIST, dtype: category\n",
       "Categories (5, interval[float64]): [(-inf, 200.0] < (200.0, 500.0] < (500.0, 1000.0] < (1000.0, 2000.0] < (2000.0, inf]]"
      ]
     },
     "execution_count": 11,
     "metadata": {},
     "output_type": "execute_result"
    }
   ],
   "source": [
    "cuts=pd.cut(flights.DIST,bins=bins)\n",
    "cuts.head()"
   ]
  },
  {
   "cell_type": "code",
   "execution_count": 22,
   "metadata": {},
   "outputs": [
    {
     "data": {
      "text/plain": [
       "(500.0, 1000.0]     20659\n",
       "(200.0, 500.0]      15874\n",
       "(1000.0, 2000.0]    14186\n",
       "(2000.0, inf]        4054\n",
       "(-inf, 200.0]        3719\n",
       "Name: DIST, dtype: int64"
      ]
     },
     "execution_count": 22,
     "metadata": {},
     "output_type": "execute_result"
    }
   ],
   "source": [
    "cuts.value_counts()"
   ]
  },
  {
   "cell_type": "code",
   "execution_count": 38,
   "metadata": {},
   "outputs": [
    {
     "data": {
      "text/plain": [
       "<matplotlib.axes._subplots.AxesSubplot at 0x1f296aeba90>"
      ]
     },
     "execution_count": 38,
     "metadata": {},
     "output_type": "execute_result"
    },
    {
     "data": {
      "image/png": "[encoded data removed]",
      "text/plain": [
       "<Figure size 432x288 with 1 Axes>"
      ]
     },
     "metadata": {
      "needs_background": "light"
     },
     "output_type": "display_data"
    }
   ],
   "source": [
    "sns.distplot(flights.DIST,kde=False)"
   ]
  },
  {
   "cell_type": "code",
   "execution_count": 41,
   "metadata": {},
   "outputs": [
    {
     "data": {
      "text/plain": [
       "DIST           AIRLINE\n",
       "(-inf, 200.0]  OO         0.326\n",
       "               EV         0.289\n",
       "               MQ         0.211\n",
       "               DL         0.086\n",
       "               AA         0.052\n",
       "               UA         0.027\n",
       "               WN         0.009\n",
       "Name: AIRLINE, dtype: float64"
      ]
     },
     "execution_count": 41,
     "metadata": {},
     "output_type": "execute_result"
    }
   ],
   "source": [
    "flights.groupby(cuts)['AIRLINE'].value_counts(normalize=True).round(3).head(7)"
   ]
  },
  {
   "cell_type": "code",
   "execution_count": 44,
   "metadata": {},
   "outputs": [
    {
     "data": {
      "text/plain": [
       "DIST                  \n",
       "(-inf, 200.0]     0.25    0.43\n",
       "                  0.50    0.50\n",
       "                  0.75    0.57\n",
       "(200.0, 500.0]    0.25    0.77\n",
       "                  0.50    0.92\n",
       "                  0.75    1.05\n",
       "(500.0, 1000.0]   0.25    1.43\n",
       "                  0.50    1.65\n",
       "                  0.75    1.92\n",
       "(1000.0, 2000.0]  0.25    2.50\n",
       "                  0.50    2.93\n",
       "                  0.75    3.40\n",
       "(2000.0, inf]     0.25    4.30\n",
       "                  0.50    4.70\n",
       "                  0.75    5.03\n",
       "Name: AIR_TIME, dtype: float64"
      ]
     },
     "execution_count": 44,
     "metadata": {},
     "output_type": "execute_result"
    }
   ],
   "source": [
    "flights.groupby(cuts)['AIR_TIME'].quantile(q=[.25,.5,.75]).div(60).round(2)"
   ]
  },
  {
   "cell_type": "code",
   "execution_count": 45,
   "metadata": {},
   "outputs": [],
   "source": [
    "# passing labels parameter to replace default binning"
   ]
  },
  {
   "cell_type": "code",
   "execution_count": 46,
   "metadata": {},
   "outputs": [],
   "source": [
    "labels=['Under an Hour','1 Hour','1-2 Hours','2-4 Hours','4+ Hours']"
   ]
  },
  {
   "cell_type": "code",
   "execution_count": 48,
   "metadata": {},
   "outputs": [],
   "source": [
    "cuts2=pd.cut(flights.DIST,bins=bins,labels=labels)"
   ]
  },
  {
   "cell_type": "code",
   "execution_count": 55,
   "metadata": {},
   "outputs": [
    {
     "data": {
      "text/html": [
       "<style  type=\"text/css\" >\n",
       "    #T_1558e068_4028_11ea_a180_645d86a66a93row0_col9 {\n",
       "            background-color:  red;\n",
       "        }    #T_1558e068_4028_11ea_a180_645d86a66a93row1_col13 {\n",
       "            background-color:  red;\n",
       "        }    #T_1558e068_4028_11ea_a180_645d86a66a93row2_col3 {\n",
       "            background-color:  red;\n",
       "        }    #T_1558e068_4028_11ea_a180_645d86a66a93row3_col0 {\n",
       "            background-color:  red;\n",
       "        }    #T_1558e068_4028_11ea_a180_645d86a66a93row4_col10 {\n",
       "            background-color:  red;\n",
       "        }</style><table id=\"T_1558e068_4028_11ea_a180_645d86a66a93\" ><thead>    <tr>        <th class=\"index_name level0\" >AIRLINE</th>        <th class=\"col_heading level0 col0\" >AA</th>        <th class=\"col_heading level0 col1\" >AS</th>        <th class=\"col_heading level0 col2\" >B6</th>        <th class=\"col_heading level0 col3\" >DL</th>        <th class=\"col_heading level0 col4\" >EV</th>        <th class=\"col_heading level0 col5\" >F9</th>        <th class=\"col_heading level0 col6\" >HA</th>        <th class=\"col_heading level0 col7\" >MQ</th>        <th class=\"col_heading level0 col8\" >NK</th>        <th class=\"col_heading level0 col9\" >OO</th>        <th class=\"col_heading level0 col10\" >UA</th>        <th class=\"col_heading level0 col11\" >US</th>        <th class=\"col_heading level0 col12\" >VX</th>        <th class=\"col_heading level0 col13\" >WN</th>    </tr>    <tr>        <th class=\"index_name level0\" >DIST</th>        <th class=\"blank\" ></th>        <th class=\"blank\" ></th>        <th class=\"blank\" ></th>        <th class=\"blank\" ></th>        <th class=\"blank\" ></th>        <th class=\"blank\" ></th>        <th class=\"blank\" ></th>        <th class=\"blank\" ></th>        <th class=\"blank\" ></th>        <th class=\"blank\" ></th>        <th class=\"blank\" ></th>        <th class=\"blank\" ></th>        <th class=\"blank\" ></th>        <th class=\"blank\" ></th>    </tr></thead><tbody>\n",
       "                <tr>\n",
       "                        <th id=\"T_1558e068_4028_11ea_a180_645d86a66a93level0_row0\" class=\"row_heading level0 row0\" >Under an Hour</th>\n",
       "                        <td id=\"T_1558e068_4028_11ea_a180_645d86a66a93row0_col0\" class=\"data row0 col0\" >0.052</td>\n",
       "                        <td id=\"T_1558e068_4028_11ea_a180_645d86a66a93row0_col1\" class=\"data row0 col1\" >nan</td>\n",
       "                        <td id=\"T_1558e068_4028_11ea_a180_645d86a66a93row0_col2\" class=\"data row0 col2\" >nan</td>\n",
       "                        <td id=\"T_1558e068_4028_11ea_a180_645d86a66a93row0_col3\" class=\"data row0 col3\" >0.086</td>\n",
       "                        <td id=\"T_1558e068_4028_11ea_a180_645d86a66a93row0_col4\" class=\"data row0 col4\" >0.289</td>\n",
       "                        <td id=\"T_1558e068_4028_11ea_a180_645d86a66a93row0_col5\" class=\"data row0 col5\" >nan</td>\n",
       "                        <td id=\"T_1558e068_4028_11ea_a180_645d86a66a93row0_col6\" class=\"data row0 col6\" >nan</td>\n",
       "                        <td id=\"T_1558e068_4028_11ea_a180_645d86a66a93row0_col7\" class=\"data row0 col7\" >0.211</td>\n",
       "                        <td id=\"T_1558e068_4028_11ea_a180_645d86a66a93row0_col8\" class=\"data row0 col8\" >nan</td>\n",
       "                        <td id=\"T_1558e068_4028_11ea_a180_645d86a66a93row0_col9\" class=\"data row0 col9\" >0.326</td>\n",
       "                        <td id=\"T_1558e068_4028_11ea_a180_645d86a66a93row0_col10\" class=\"data row0 col10\" >0.027</td>\n",
       "                        <td id=\"T_1558e068_4028_11ea_a180_645d86a66a93row0_col11\" class=\"data row0 col11\" >nan</td>\n",
       "                        <td id=\"T_1558e068_4028_11ea_a180_645d86a66a93row0_col12\" class=\"data row0 col12\" >nan</td>\n",
       "                        <td id=\"T_1558e068_4028_11ea_a180_645d86a66a93row0_col13\" class=\"data row0 col13\" >0.009</td>\n",
       "            </tr>\n",
       "            <tr>\n",
       "                        <th id=\"T_1558e068_4028_11ea_a180_645d86a66a93level0_row1\" class=\"row_heading level0 row1\" >1 Hour</th>\n",
       "                        <td id=\"T_1558e068_4028_11ea_a180_645d86a66a93row1_col0\" class=\"data row1 col0\" >0.071</td>\n",
       "                        <td id=\"T_1558e068_4028_11ea_a180_645d86a66a93row1_col1\" class=\"data row1 col1\" >0.001</td>\n",
       "                        <td id=\"T_1558e068_4028_11ea_a180_645d86a66a93row1_col2\" class=\"data row1 col2\" >0.007</td>\n",
       "                        <td id=\"T_1558e068_4028_11ea_a180_645d86a66a93row1_col3\" class=\"data row1 col3\" >0.189</td>\n",
       "                        <td id=\"T_1558e068_4028_11ea_a180_645d86a66a93row1_col4\" class=\"data row1 col4\" >0.156</td>\n",
       "                        <td id=\"T_1558e068_4028_11ea_a180_645d86a66a93row1_col5\" class=\"data row1 col5\" >0.005</td>\n",
       "                        <td id=\"T_1558e068_4028_11ea_a180_645d86a66a93row1_col6\" class=\"data row1 col6\" >nan</td>\n",
       "                        <td id=\"T_1558e068_4028_11ea_a180_645d86a66a93row1_col7\" class=\"data row1 col7\" >0.1</td>\n",
       "                        <td id=\"T_1558e068_4028_11ea_a180_645d86a66a93row1_col8\" class=\"data row1 col8\" >0.012</td>\n",
       "                        <td id=\"T_1558e068_4028_11ea_a180_645d86a66a93row1_col9\" class=\"data row1 col9\" >0.159</td>\n",
       "                        <td id=\"T_1558e068_4028_11ea_a180_645d86a66a93row1_col10\" class=\"data row1 col10\" >0.062</td>\n",
       "                        <td id=\"T_1558e068_4028_11ea_a180_645d86a66a93row1_col11\" class=\"data row1 col11\" >0.016</td>\n",
       "                        <td id=\"T_1558e068_4028_11ea_a180_645d86a66a93row1_col12\" class=\"data row1 col12\" >0.028</td>\n",
       "                        <td id=\"T_1558e068_4028_11ea_a180_645d86a66a93row1_col13\" class=\"data row1 col13\" >0.194</td>\n",
       "            </tr>\n",
       "            <tr>\n",
       "                        <th id=\"T_1558e068_4028_11ea_a180_645d86a66a93level0_row2\" class=\"row_heading level0 row2\" >1-2 Hours</th>\n",
       "                        <td id=\"T_1558e068_4028_11ea_a180_645d86a66a93row2_col0\" class=\"data row2 col0\" >0.144</td>\n",
       "                        <td id=\"T_1558e068_4028_11ea_a180_645d86a66a93row2_col1\" class=\"data row2 col1\" >0.023</td>\n",
       "                        <td id=\"T_1558e068_4028_11ea_a180_645d86a66a93row2_col2\" class=\"data row2 col2\" >0.003</td>\n",
       "                        <td id=\"T_1558e068_4028_11ea_a180_645d86a66a93row2_col3\" class=\"data row2 col3\" >0.206</td>\n",
       "                        <td id=\"T_1558e068_4028_11ea_a180_645d86a66a93row2_col4\" class=\"data row2 col4\" >0.101</td>\n",
       "                        <td id=\"T_1558e068_4028_11ea_a180_645d86a66a93row2_col5\" class=\"data row2 col5\" >0.038</td>\n",
       "                        <td id=\"T_1558e068_4028_11ea_a180_645d86a66a93row2_col6\" class=\"data row2 col6\" >nan</td>\n",
       "                        <td id=\"T_1558e068_4028_11ea_a180_645d86a66a93row2_col7\" class=\"data row2 col7\" >0.051</td>\n",
       "                        <td id=\"T_1558e068_4028_11ea_a180_645d86a66a93row2_col8\" class=\"data row2 col8\" >0.03</td>\n",
       "                        <td id=\"T_1558e068_4028_11ea_a180_645d86a66a93row2_col9\" class=\"data row2 col9\" >0.106</td>\n",
       "                        <td id=\"T_1558e068_4028_11ea_a180_645d86a66a93row2_col10\" class=\"data row2 col10\" >0.131</td>\n",
       "                        <td id=\"T_1558e068_4028_11ea_a180_645d86a66a93row2_col11\" class=\"data row2 col11\" >0.025</td>\n",
       "                        <td id=\"T_1558e068_4028_11ea_a180_645d86a66a93row2_col12\" class=\"data row2 col12\" >0.004</td>\n",
       "                        <td id=\"T_1558e068_4028_11ea_a180_645d86a66a93row2_col13\" class=\"data row2 col13\" >0.138</td>\n",
       "            </tr>\n",
       "            <tr>\n",
       "                        <th id=\"T_1558e068_4028_11ea_a180_645d86a66a93level0_row3\" class=\"row_heading level0 row3\" >2-4 Hours</th>\n",
       "                        <td id=\"T_1558e068_4028_11ea_a180_645d86a66a93row3_col0\" class=\"data row3 col0\" >0.264</td>\n",
       "                        <td id=\"T_1558e068_4028_11ea_a180_645d86a66a93row3_col1\" class=\"data row3 col1\" >0.016</td>\n",
       "                        <td id=\"T_1558e068_4028_11ea_a180_645d86a66a93row3_col2\" class=\"data row3 col2\" >0.003</td>\n",
       "                        <td id=\"T_1558e068_4028_11ea_a180_645d86a66a93row3_col3\" class=\"data row3 col3\" >0.165</td>\n",
       "                        <td id=\"T_1558e068_4028_11ea_a180_645d86a66a93row3_col4\" class=\"data row3 col4\" >0.016</td>\n",
       "                        <td id=\"T_1558e068_4028_11ea_a180_645d86a66a93row3_col5\" class=\"data row3 col5\" >0.031</td>\n",
       "                        <td id=\"T_1558e068_4028_11ea_a180_645d86a66a93row3_col6\" class=\"data row3 col6\" >nan</td>\n",
       "                        <td id=\"T_1558e068_4028_11ea_a180_645d86a66a93row3_col7\" class=\"data row3 col7\" >0.003</td>\n",
       "                        <td id=\"T_1558e068_4028_11ea_a180_645d86a66a93row3_col8\" class=\"data row3 col8\" >0.045</td>\n",
       "                        <td id=\"T_1558e068_4028_11ea_a180_645d86a66a93row3_col9\" class=\"data row3 col9\" >0.046</td>\n",
       "                        <td id=\"T_1558e068_4028_11ea_a180_645d86a66a93row3_col10\" class=\"data row3 col10\" >0.199</td>\n",
       "                        <td id=\"T_1558e068_4028_11ea_a180_645d86a66a93row3_col11\" class=\"data row3 col11\" >0.04</td>\n",
       "                        <td id=\"T_1558e068_4028_11ea_a180_645d86a66a93row3_col12\" class=\"data row3 col12\" >0.012</td>\n",
       "                        <td id=\"T_1558e068_4028_11ea_a180_645d86a66a93row3_col13\" class=\"data row3 col13\" >0.16</td>\n",
       "            </tr>\n",
       "            <tr>\n",
       "                        <th id=\"T_1558e068_4028_11ea_a180_645d86a66a93level0_row4\" class=\"row_heading level0 row4\" >4+ Hours</th>\n",
       "                        <td id=\"T_1558e068_4028_11ea_a180_645d86a66a93row4_col0\" class=\"data row4 col0\" >0.212</td>\n",
       "                        <td id=\"T_1558e068_4028_11ea_a180_645d86a66a93row4_col1\" class=\"data row4 col1\" >0.012</td>\n",
       "                        <td id=\"T_1558e068_4028_11ea_a180_645d86a66a93row4_col2\" class=\"data row4 col2\" >0.08</td>\n",
       "                        <td id=\"T_1558e068_4028_11ea_a180_645d86a66a93row4_col3\" class=\"data row4 col3\" >0.171</td>\n",
       "                        <td id=\"T_1558e068_4028_11ea_a180_645d86a66a93row4_col4\" class=\"data row4 col4\" >nan</td>\n",
       "                        <td id=\"T_1558e068_4028_11ea_a180_645d86a66a93row4_col5\" class=\"data row4 col5\" >0.004</td>\n",
       "                        <td id=\"T_1558e068_4028_11ea_a180_645d86a66a93row4_col6\" class=\"data row4 col6\" >0.028</td>\n",
       "                        <td id=\"T_1558e068_4028_11ea_a180_645d86a66a93row4_col7\" class=\"data row4 col7\" >nan</td>\n",
       "                        <td id=\"T_1558e068_4028_11ea_a180_645d86a66a93row4_col8\" class=\"data row4 col8\" >0.019</td>\n",
       "                        <td id=\"T_1558e068_4028_11ea_a180_645d86a66a93row4_col9\" class=\"data row4 col9\" >nan</td>\n",
       "                        <td id=\"T_1558e068_4028_11ea_a180_645d86a66a93row4_col10\" class=\"data row4 col10\" >0.289</td>\n",
       "                        <td id=\"T_1558e068_4028_11ea_a180_645d86a66a93row4_col11\" class=\"data row4 col11\" >0.065</td>\n",
       "                        <td id=\"T_1558e068_4028_11ea_a180_645d86a66a93row4_col12\" class=\"data row4 col12\" >0.074</td>\n",
       "                        <td id=\"T_1558e068_4028_11ea_a180_645d86a66a93row4_col13\" class=\"data row4 col13\" >0.046</td>\n",
       "            </tr>\n",
       "    </tbody></table>"
      ],
      "text/plain": [
       "<pandas.io.formats.style.Styler at 0x1f296f093c8>"
      ]
     },
     "execution_count": 55,
     "metadata": {},
     "output_type": "execute_result"
    }
   ],
   "source": [
    "flights.groupby(cuts2)['AIRLINE'].value_counts(normalize=True).round(3).unstack().style.highlight_max(axis=1,color='red')"
   ]
  }
 ],
 "metadata": {
  "kernelspec": {
   "display_name": "Python 3",
   "language": "python",
   "name": "python3"
  },
  "language_info": {
   "codemirror_mode": {
    "name": "ipython",
    "version": 3
   },
   "file_extension": ".py",
   "mimetype": "text/x-python",
   "name": "python",
   "nbconvert_exporter": "python",
   "pygments_lexer": "ipython3",
   "version": "3.7.3"
  }
 },
 "nbformat": 4,
 "nbformat_minor": 2
}
